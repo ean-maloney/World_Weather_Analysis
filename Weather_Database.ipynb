{
 "cells": [
  {
   "cell_type": "code",
   "execution_count": 1,
   "metadata": {},
   "outputs": [],
   "source": [
    "#Import libraries\n",
    "import pandas as pd\n",
    "import matplotlib.pyplot as plt\n",
    "import numpy as np\n",
    "import requests\n",
    "from config import weather_api_key"
   ]
  },
  {
   "cell_type": "code",
   "execution_count": 2,
   "metadata": {},
   "outputs": [],
   "source": [
    "# Base url\n",
    "url = \"http://api.openweathermap.org/data/2.5/weather?units=Imperial&APPID=\" + weather_api_key"
   ]
  },
  {
   "cell_type": "code",
   "execution_count": 3,
   "metadata": {},
   "outputs": [
    {
     "data": {
      "text/plain": [
       "<zip at 0x1ad142285c8>"
      ]
     },
     "execution_count": 3,
     "metadata": {},
     "output_type": "execute_result"
    }
   ],
   "source": [
    "#Create set of random coordinates\n",
    "lats = np.random.uniform(-90, 90, size = 2000)\n",
    "lngs = np.random.uniform(-180, 180, size = 2000)\n",
    "lat_lngs = zip(lats, lngs)\n",
    "lat_lngs"
   ]
  },
  {
   "cell_type": "code",
   "execution_count": 4,
   "metadata": {},
   "outputs": [],
   "source": [
    "#Add the coordinates to a list\n",
    "coordinates = list(lat_lngs)"
   ]
  },
  {
   "cell_type": "code",
   "execution_count": 5,
   "metadata": {},
   "outputs": [],
   "source": [
    "from citipy import citipy"
   ]
  },
  {
   "cell_type": "code",
   "execution_count": 6,
   "metadata": {},
   "outputs": [
    {
     "data": {
      "text/plain": [
       "739"
      ]
     },
     "execution_count": 6,
     "metadata": {},
     "output_type": "execute_result"
    }
   ],
   "source": [
    "#Create list for citites\n",
    "cities = []\n",
    "\n",
    "#Identify nearest city for coordinates\n",
    "for coordinate in coordinates:\n",
    "    city = citipy.nearest_city(coordinate[0], coordinate[1]).city_name\n",
    "    \n",
    "    #If city is unique, add to list of cities\n",
    "    if city not in cities: \n",
    "        cities.append(city)\n",
    "\n",
    "#Print length of city list\n",
    "len(cities)"
   ]
  },
  {
   "cell_type": "code",
   "execution_count": null,
   "metadata": {},
   "outputs": [
    {
     "name": "stdout",
     "output_type": "stream",
     "text": [
      "Beginning data retrieval\n",
      "-----------------------------\n",
      "Processing record 1 of set 1 | atuona\n",
      "Processing record 2 of set 1 | busselton\n",
      "Processing record 3 of set 1 | katsuura\n",
      "City not found. Skipping...\n",
      "Processing record 4 of set 1 | balakhninskiy\n",
      "Processing record 5 of set 1 | faanui\n",
      "Processing record 6 of set 1 | tasiilaq\n",
      "Processing record 7 of set 1 | opuwo\n",
      "Processing record 8 of set 1 | albany\n",
      "City not found. Skipping...\n",
      "Processing record 9 of set 1 | punta arenas\n"
     ]
    }
   ],
   "source": [
    "#Import datetime\n",
    "from datetime import datetime\n",
    "\n",
    "#Create empty list for weather data\n",
    "city_data = []\n",
    "\n",
    "#Print beginning of log\n",
    "print(\"Beginning data retrieval\")\n",
    "print(\"-----------------------------\")\n",
    "\n",
    "#Create counters.\n",
    "record_count = 1\n",
    "set_count = 1\n",
    "\n",
    "#Loop through cities in list \n",
    "for i, city in enumerate(cities):\n",
    "    #Group cities in sets of 50\n",
    "    if(i % 50 == 0 and i >= 50):\n",
    "        set_count += 1\n",
    "        record_count = 1\n",
    "    \n",
    "    #Create endpoint URL for each city\n",
    "    city_url = url + \"&q=\" + city.replace(\" \", \"+\")\n",
    "    \n",
    "    #Log URL, record, set num, city\n",
    "    print(f\"Processing record {record_count} of set {set_count} | {city}\")\n",
    "    \n",
    "    record_count += 1\n",
    "    \n",
    "    #Run API req for each city\n",
    "    try:\n",
    "    #Parse JSON and retrieve data.\n",
    "        city_weather = requests.get(city_url).json()\n",
    "        city_lat = city_weather[\"coord\"][\"lat\"]\n",
    "        city_lng = city_weather[\"coord\"][\"lon\"]\n",
    "        city_max_temp = city_weather[\"main\"][\"temp_max\"]\n",
    "        city_humidity = city_weather[\"main\"][\"humidity\"]\n",
    "        city_clouds = city_weather[\"clouds\"][\"all\"]\n",
    "        city_wind = city_weather[\"wind\"][\"speed\"]\n",
    "        city_country = city_weather[\"sys\"][\"country\"]\n",
    "\n",
    "        #Convert date to ISO\n",
    "        city_date = datetime.utcfromtimestamp(city_weather[\"dt\"]).strftime('%Y-%m-%d %H:%M:%S')\n",
    "\n",
    "        #Append city info to city_data list.\n",
    "        city_data.append({\"City\": city.title(),\n",
    "                          \"Lat\": city_lat,\n",
    "                          \"Lng\": city_lng,\n",
    "                          \"Max Temp\": city_max_temp,\n",
    "                          \"Humidity\": city_humidity,\n",
    "                          \"Cloudiness\": city_clouds,\n",
    "                          \"Wind Speed\": city_wind,\n",
    "                          \"Country\": city_country,\n",
    "                          \"Date\": city_date})\n",
    "    \n",
    "    #Skip errors\n",
    "    except:\n",
    "        print(\"City not found. Skipping...\")\n",
    "        pass\n",
    "    \n",
    "#Indicate Data Loading complete.\n",
    "print(\"-----------------------------\")\n",
    "print(\"Data Retrieval Complete      \")\n",
    "print(\"-----------------------------\")"
   ]
  },
  {
   "cell_type": "code",
   "execution_count": null,
   "metadata": {},
   "outputs": [],
   "source": [
    "len(city_data)"
   ]
  },
  {
   "cell_type": "code",
   "execution_count": null,
   "metadata": {},
   "outputs": [],
   "source": [
    "#Convert l-d to pandas df\n",
    "city_data_df = pd.DataFrame(city_data)\n",
    "city_data_df.head(10)"
   ]
  },
  {
   "cell_type": "code",
   "execution_count": null,
   "metadata": {},
   "outputs": [],
   "source": [
    "#Reorder cols\n",
    "new_col_order = [\"City\", \"Country\", \"Date\", \"Lat\", \"Lng\", \"Max Temp\", \"Humidity\", \"Cloudiness\", \"Wind Speed\"]\n",
    "city_data_df = city_data_df[new_col_order]\n",
    "city_data_df.head(10)"
   ]
  },
  {
   "cell_type": "code",
   "execution_count": null,
   "metadata": {},
   "outputs": [],
   "source": [
    "#Create output file path\n",
    "output_path = \"weather_data/cities.csv\"\n",
    "\n",
    "#Export city_data\n",
    "city_data_df.to_csv(output_path, index_label = \"City_ID\")"
   ]
  }
 ],
 "metadata": {
  "kernelspec": {
   "display_name": "PythonData",
   "language": "python",
   "name": "pythondata"
  },
  "language_info": {
   "codemirror_mode": {
    "name": "ipython",
    "version": 3
   },
   "file_extension": ".py",
   "mimetype": "text/x-python",
   "name": "python",
   "nbconvert_exporter": "python",
   "pygments_lexer": "ipython3",
   "version": "3.7.6"
  }
 },
 "nbformat": 4,
 "nbformat_minor": 4
}
