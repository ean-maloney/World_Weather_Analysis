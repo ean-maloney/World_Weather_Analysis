{
 "cells": [
  {
   "cell_type": "markdown",
   "metadata": {},
   "source": [
    "## Deliverable 3. Create a Travel Itinerary Map."
   ]
  },
  {
   "cell_type": "code",
   "execution_count": 1,
   "metadata": {},
   "outputs": [],
   "source": [
    "# Dependencies and Setup\n",
    "import pandas as pd\n",
    "import requests\n",
    "import gmaps\n",
    "\n",
    "# Import API key\n",
    "from config import g_key\n",
    "\n",
    "# Configure gmaps\n",
    "gmaps.configure(api_key=g_key)"
   ]
  },
  {
   "cell_type": "code",
   "execution_count": 2,
   "metadata": {},
   "outputs": [
    {
     "data": {
      "text/html": [
       "<div>\n",
       "<style scoped>\n",
       "    .dataframe tbody tr th:only-of-type {\n",
       "        vertical-align: middle;\n",
       "    }\n",
       "\n",
       "    .dataframe tbody tr th {\n",
       "        vertical-align: top;\n",
       "    }\n",
       "\n",
       "    .dataframe thead th {\n",
       "        text-align: right;\n",
       "    }\n",
       "</style>\n",
       "<table border=\"1\" class=\"dataframe\">\n",
       "  <thead>\n",
       "    <tr style=\"text-align: right;\">\n",
       "      <th></th>\n",
       "      <th>City_ID</th>\n",
       "      <th>City</th>\n",
       "      <th>Country</th>\n",
       "      <th>Max Temp</th>\n",
       "      <th>Current Description</th>\n",
       "      <th>Lat</th>\n",
       "      <th>Lng</th>\n",
       "      <th>Hotel Name</th>\n",
       "    </tr>\n",
       "  </thead>\n",
       "  <tbody>\n",
       "    <tr>\n",
       "      <th>0</th>\n",
       "      <td>0</td>\n",
       "      <td>Assiniboia</td>\n",
       "      <td>CA</td>\n",
       "      <td>78.71</td>\n",
       "      <td>overcast clouds</td>\n",
       "      <td>49.6334</td>\n",
       "      <td>-105.9845</td>\n",
       "      <td>Canalta Hotel Assiniboia</td>\n",
       "    </tr>\n",
       "    <tr>\n",
       "      <th>1</th>\n",
       "      <td>1</td>\n",
       "      <td>Vila Velha</td>\n",
       "      <td>BR</td>\n",
       "      <td>78.75</td>\n",
       "      <td>clear sky</td>\n",
       "      <td>-20.3297</td>\n",
       "      <td>-40.2925</td>\n",
       "      <td>Quality Suites Vila Velha</td>\n",
       "    </tr>\n",
       "    <tr>\n",
       "      <th>2</th>\n",
       "      <td>2</td>\n",
       "      <td>Port Blair</td>\n",
       "      <td>IN</td>\n",
       "      <td>82.00</td>\n",
       "      <td>clear sky</td>\n",
       "      <td>11.6667</td>\n",
       "      <td>92.7500</td>\n",
       "      <td>Welcomhotel By ITC Hotels, Bay Island, Port Blair</td>\n",
       "    </tr>\n",
       "    <tr>\n",
       "      <th>3</th>\n",
       "      <td>7</td>\n",
       "      <td>Bara</td>\n",
       "      <td>NG</td>\n",
       "      <td>80.78</td>\n",
       "      <td>overcast clouds</td>\n",
       "      <td>10.3744</td>\n",
       "      <td>10.7288</td>\n",
       "      <td>NaN</td>\n",
       "    </tr>\n",
       "    <tr>\n",
       "      <th>4</th>\n",
       "      <td>14</td>\n",
       "      <td>Kapaa</td>\n",
       "      <td>US</td>\n",
       "      <td>82.38</td>\n",
       "      <td>scattered clouds</td>\n",
       "      <td>22.0752</td>\n",
       "      <td>-159.3190</td>\n",
       "      <td>Sheraton Kauai Coconut Beach Resort</td>\n",
       "    </tr>\n",
       "  </tbody>\n",
       "</table>\n",
       "</div>"
      ],
      "text/plain": [
       "   City_ID        City Country  Max Temp Current Description      Lat  \\\n",
       "0        0  Assiniboia      CA     78.71     overcast clouds  49.6334   \n",
       "1        1  Vila Velha      BR     78.75           clear sky -20.3297   \n",
       "2        2  Port Blair      IN     82.00           clear sky  11.6667   \n",
       "3        7        Bara      NG     80.78     overcast clouds  10.3744   \n",
       "4       14       Kapaa      US     82.38    scattered clouds  22.0752   \n",
       "\n",
       "        Lng                                         Hotel Name  \n",
       "0 -105.9845                           Canalta Hotel Assiniboia  \n",
       "1  -40.2925                          Quality Suites Vila Velha  \n",
       "2   92.7500  Welcomhotel By ITC Hotels, Bay Island, Port Blair  \n",
       "3   10.7288                                                NaN  \n",
       "4 -159.3190                Sheraton Kauai Coconut Beach Resort  "
      ]
     },
     "execution_count": 2,
     "metadata": {},
     "output_type": "execute_result"
    }
   ],
   "source": [
    "# 1. Read the WeatherPy_vacation.csv into a DataFrame.\n",
    "vacation_df = pd.read_csv(\"Vacation_Search/WeatherPy_vacation.csv\")\n",
    "vacation_df.head()"
   ]
  },
  {
   "cell_type": "code",
   "execution_count": 3,
   "metadata": {},
   "outputs": [],
   "source": [
    "# 2. Using the template add the city name, the country code, the weather description and maximum temperature for the city.\n",
    "info_box_template = \"\"\"\n",
    "<dl>\n",
    "<dt>City</dt><dd>{City}</dd>\n",
    "<dt>Country</dt><dd>{Country}</dd>\n",
    "<dt>Current Weather</dt><dd>{Current Description} and {Max Temp}°F</dd>\n",
    "</dl>\n",
    "\"\"\"\n",
    "\n",
    "# 3a. Get the data from each row and add it to the formatting template and store the data in a list.\n",
    "hotel_info = [info_box_template.format(**row) for index, row in vacation_df.iterrows()]\n",
    "\n",
    "# 3b. Get the latitude and longitude from each row and store in a new DataFrame.\n",
    "locations = vacation_df[[\"Lat\", \"Lng\"]]"
   ]
  },
  {
   "cell_type": "code",
   "execution_count": 4,
   "metadata": {},
   "outputs": [
    {
     "data": {
      "application/vnd.jupyter.widget-view+json": {
       "model_id": "7345b3ef70884e7a9e0b4a12382b9db7",
       "version_major": 2,
       "version_minor": 0
      },
      "text/plain": [
       "Figure(layout=FigureLayout(height='420px'))"
      ]
     },
     "metadata": {},
     "output_type": "display_data"
    }
   ],
   "source": [
    "# 4a. Add a marker layer for each city to the map.\n",
    "locations = vacation_df[[\"Lat\", \"Lng\"]]\n",
    "max_temp = vacation_df[\"Max Temp\"]\n",
    "fig = gmaps.figure(center = (30, 31), zoom_level = 1.5)\n",
    "heat_layer = gmaps.heatmap_layer(locations, weights = max_temp,\n",
    "                                dissipating = False, \n",
    "                                max_intensity = 300,\n",
    "                                point_radius = 4)\n",
    "marker_layer = gmaps.marker_layer(locations, info_box_content = hotel_info)\n",
    "fig.add_layer(heat_layer)\n",
    "fig.add_layer(marker_layer)\n",
    "\n",
    "# 4b. Display the figure\n",
    "fig"
   ]
  },
  {
   "cell_type": "code",
   "execution_count": 48,
   "metadata": {},
   "outputs": [],
   "source": [
    "# From the map above pick 4 cities and create a vacation itinerary route to travel between the four cities. \n",
    "# 5. Create DataFrames for each city by filtering the 'vacation_df' using the loc method. \n",
    "# Hint: The starting and ending city should be the same city.\n",
    "\n",
    "vacation_start = vacation_df.loc[vacation_df[\"City\"] == \"Areia Branca\"]\n",
    "vacation_end = vacation_df.loc[vacation_df[\"City\"] == \"Areia Branca\"]\n",
    "vacation_stop1 = vacation_df.loc[vacation_df[\"City\"] == \"Casa Nova\"]\n",
    "vacation_stop2 = vacation_df.loc[vacation_df[\"City\"] == \"Sao Miguel\"] \n",
    "vacation_stop3 = vacation_df.loc[vacation_df[\"City\"] == \"Pitimbu\"] "
   ]
  },
  {
   "cell_type": "code",
   "execution_count": 49,
   "metadata": {},
   "outputs": [
    {
     "data": {
      "text/plain": [
       "array([255, 'Areia Branca', 'BR', 81.09, 'broken clouds', -4.9561,\n",
       "       -37.1369, 'Areia Branca Apart Hotel'], dtype=object)"
      ]
     },
     "execution_count": 49,
     "metadata": {},
     "output_type": "execute_result"
    }
   ],
   "source": [
    "array = vacation_df.loc[vacation_df[\"City\"] == \"Areia Branca\"].to_numpy()\n",
    "array[0]"
   ]
  },
  {
   "cell_type": "code",
   "execution_count": 50,
   "metadata": {},
   "outputs": [],
   "source": [
    "# 6. Get the latitude-longitude pairs as tuples from each city DataFrame using the to_numpy function and list indexing.\n",
    "start = (vacation_start.to_numpy()[0][5], vacation_start.to_numpy()[0][6])\n",
    "end = (vacation_end.to_numpy()[0][5], vacation_end.to_numpy()[0][6])\n",
    "stop1 = (vacation_stop1.to_numpy()[0][5], vacation_stop1.to_numpy()[0][6])\n",
    "stop2 = (vacation_stop2.to_numpy()[0][5], vacation_stop2.to_numpy()[0][6])\n",
    "stop3 = (vacation_stop3.to_numpy()[0][5], vacation_stop3.to_numpy()[0][6])"
   ]
  },
  {
   "cell_type": "code",
   "execution_count": 52,
   "metadata": {
    "scrolled": false
   },
   "outputs": [
    {
     "data": {
      "application/vnd.jupyter.widget-view+json": {
       "model_id": "4da61b709f9f44638d41e1d0569e818a",
       "version_major": 2,
       "version_minor": 0
      },
      "text/plain": [
       "Figure(layout=FigureLayout(height='420px'))"
      ]
     },
     "metadata": {},
     "output_type": "display_data"
    }
   ],
   "source": [
    "# 7. Create a direction layer map using the start and end latitude-longitude pairs,\n",
    "# and stop1, stop2, and stop3 as the waypoints. The travel_mode should be \"DRIVING\", \"BICYCLING\", or \"WALKING\".\n",
    "fig = gmaps.figure()\n",
    "route = gmaps.directions_layer(start, end, waypoints = [stop1, stop2, stop3], travel_mode = \"DRIVING\")\n",
    "fig.add_layer(route)\n",
    "fig"
   ]
  },
  {
   "cell_type": "code",
   "execution_count": 53,
   "metadata": {},
   "outputs": [
    {
     "data": {
      "text/html": [
       "<div>\n",
       "<style scoped>\n",
       "    .dataframe tbody tr th:only-of-type {\n",
       "        vertical-align: middle;\n",
       "    }\n",
       "\n",
       "    .dataframe tbody tr th {\n",
       "        vertical-align: top;\n",
       "    }\n",
       "\n",
       "    .dataframe thead th {\n",
       "        text-align: right;\n",
       "    }\n",
       "</style>\n",
       "<table border=\"1\" class=\"dataframe\">\n",
       "  <thead>\n",
       "    <tr style=\"text-align: right;\">\n",
       "      <th></th>\n",
       "      <th>City_ID</th>\n",
       "      <th>City</th>\n",
       "      <th>Country</th>\n",
       "      <th>Max Temp</th>\n",
       "      <th>Current Description</th>\n",
       "      <th>Lat</th>\n",
       "      <th>Lng</th>\n",
       "      <th>Hotel Name</th>\n",
       "    </tr>\n",
       "  </thead>\n",
       "  <tbody>\n",
       "    <tr>\n",
       "      <th>0</th>\n",
       "      <td>255</td>\n",
       "      <td>Areia Branca</td>\n",
       "      <td>BR</td>\n",
       "      <td>81.09</td>\n",
       "      <td>broken clouds</td>\n",
       "      <td>-4.9561</td>\n",
       "      <td>-37.1369</td>\n",
       "      <td>Areia Branca Apart Hotel</td>\n",
       "    </tr>\n",
       "    <tr>\n",
       "      <th>1</th>\n",
       "      <td>675</td>\n",
       "      <td>Casa Nova</td>\n",
       "      <td>BR</td>\n",
       "      <td>81.93</td>\n",
       "      <td>broken clouds</td>\n",
       "      <td>-9.4167</td>\n",
       "      <td>-41.1333</td>\n",
       "      <td>Pousada e Restaurante Dona Xinha</td>\n",
       "    </tr>\n",
       "    <tr>\n",
       "      <th>2</th>\n",
       "      <td>586</td>\n",
       "      <td>Sao Miguel</td>\n",
       "      <td>BR</td>\n",
       "      <td>82.72</td>\n",
       "      <td>few clouds</td>\n",
       "      <td>-5.4667</td>\n",
       "      <td>-35.3667</td>\n",
       "      <td>CEJ - Centro Escoteiro da Juventude</td>\n",
       "    </tr>\n",
       "    <tr>\n",
       "      <th>3</th>\n",
       "      <td>415</td>\n",
       "      <td>Pitimbu</td>\n",
       "      <td>BR</td>\n",
       "      <td>79.39</td>\n",
       "      <td>clear sky</td>\n",
       "      <td>-7.4706</td>\n",
       "      <td>-34.8086</td>\n",
       "      <td>Reserva do Abiaí</td>\n",
       "    </tr>\n",
       "  </tbody>\n",
       "</table>\n",
       "</div>"
      ],
      "text/plain": [
       "   City_ID          City Country  Max Temp Current Description     Lat  \\\n",
       "0      255  Areia Branca      BR     81.09       broken clouds -4.9561   \n",
       "1      675     Casa Nova      BR     81.93       broken clouds -9.4167   \n",
       "2      586    Sao Miguel      BR     82.72          few clouds -5.4667   \n",
       "3      415       Pitimbu      BR     79.39           clear sky -7.4706   \n",
       "\n",
       "       Lng                           Hotel Name  \n",
       "0 -37.1369             Areia Branca Apart Hotel  \n",
       "1 -41.1333     Pousada e Restaurante Dona Xinha  \n",
       "2 -35.3667  CEJ - Centro Escoteiro da Juventude  \n",
       "3 -34.8086                     Reserva do Abiaí  "
      ]
     },
     "execution_count": 53,
     "metadata": {},
     "output_type": "execute_result"
    }
   ],
   "source": [
    "# 8. To create a marker layer map between the four cities.\n",
    "#  Combine the four city DataFrames into one DataFrame using the concat() function.\n",
    "itinerary_df = pd.concat([vacation_start, vacation_stop1, vacation_stop2, vacation_stop3], ignore_index=True)\n",
    "itinerary_df"
   ]
  },
  {
   "cell_type": "code",
   "execution_count": 54,
   "metadata": {},
   "outputs": [],
   "source": [
    "# 9 Using the template add city name, the country code, the weather description and maximum temperature for the city. \n",
    "info_box_template = \"\"\"\n",
    "<dl>\n",
    "<dt>City</dt><dd>{City}</dd>\n",
    "<dt>Country</dt><dd>{Country}</dd>\n",
    "<dt>Current Weather</dt><dd>{Current Description} and {Max Temp}°F</dd>\n",
    "</dl>\n",
    "\"\"\"\n",
    "\n",
    "# 10a Get the data from each row and add it to the formatting template and store the data in a list.\n",
    "hotel_info = [info_box_template.format(**row) for index, row in itinerary_df.iterrows()]\n",
    "\n",
    "# 10b. Get the latitude and longitude from each row and store in a new DataFrame.\n",
    "locations = itinerary_df[[\"Lat\", \"Lng\"]]"
   ]
  },
  {
   "cell_type": "code",
   "execution_count": 56,
   "metadata": {},
   "outputs": [
    {
     "data": {
      "application/vnd.jupyter.widget-view+json": {
       "model_id": "dd48337637f7454ba2b6ed6c45890471",
       "version_major": 2,
       "version_minor": 0
      },
      "text/plain": [
       "Figure(layout=FigureLayout(height='420px'))"
      ]
     },
     "metadata": {},
     "output_type": "display_data"
    }
   ],
   "source": [
    "# 11a. Add a marker layer for each city to the map.\n",
    "fig = gmaps.figure(center = (30, 31), zoom_level = 1.5)\n",
    "marker_layer = gmaps.marker_layer(locations, info_box_content = hotel_info)\n",
    "fig.add_layer(marker_layer)\n",
    "\n",
    "# 11b. Display the figure\n",
    "fig"
   ]
  },
  {
   "cell_type": "code",
   "execution_count": null,
   "metadata": {},
   "outputs": [],
   "source": []
  }
 ],
 "metadata": {
  "kernelspec": {
   "display_name": "PythonData",
   "language": "python",
   "name": "pythondata"
  },
  "language_info": {
   "codemirror_mode": {
    "name": "ipython",
    "version": 3
   },
   "file_extension": ".py",
   "mimetype": "text/x-python",
   "name": "python",
   "nbconvert_exporter": "python",
   "pygments_lexer": "ipython3",
   "version": "3.7.6"
  },
  "latex_envs": {
   "LaTeX_envs_menu_present": true,
   "autoclose": false,
   "autocomplete": true,
   "bibliofile": "biblio.bib",
   "cite_by": "apalike",
   "current_citInitial": 1,
   "eqLabelWithNumbers": true,
   "eqNumInitial": 1,
   "hotkeys": {
    "equation": "Ctrl-E",
    "itemize": "Ctrl-I"
   },
   "labels_anchors": false,
   "latex_user_defs": false,
   "report_style_numbering": false,
   "user_envs_cfg": false
  }
 },
 "nbformat": 4,
 "nbformat_minor": 2
}
